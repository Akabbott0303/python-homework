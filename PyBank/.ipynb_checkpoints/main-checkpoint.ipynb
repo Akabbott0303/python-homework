{
 "cells": [
  {
   "cell_type": "code",
   "execution_count": 3,
   "id": "75a7ee25-a854-4fd9-9fce-d82712366876",
   "metadata": {},
   "outputs": [],
   "source": [
    "# Import the pathlist and csv library.\n",
    "from pathlib import Path\n",
    "import csv"
   ]
  },
  {
   "cell_type": "code",
   "execution_count": 4,
   "id": "7e966928-6658-4c5f-9fb6-0dff5686360c",
   "metadata": {},
   "outputs": [
    {
     "name": "stdout",
     "output_type": "stream",
     "text": [
      "Current Working Directory: C:\\Users\\badca\\Desktop\\GitHub\\python-homework\\PyBank\n"
     ]
    }
   ],
   "source": [
    "# Print current Working Directory.\n",
    "print(f\"Current Working Directory: {Path.cwd()}\")"
   ]
  },
  {
   "cell_type": "code",
   "execution_count": 5,
   "id": "029d08fa-e8ec-4526-971a-86ce33dad265",
   "metadata": {},
   "outputs": [],
   "source": [
    "# Set the file path to CSV file in current Working Directory.\n",
    "csvpath = Path(\"budget_data.csv\")"
   ]
  },
  {
   "cell_type": "code",
   "execution_count": 6,
   "id": "fbb8ce23-77dc-494e-86a7-c3b23de23d91",
   "metadata": {},
   "outputs": [],
   "source": [
    "# Initialize two lists to hold data from the budget data CSV file.\n",
    "budget_data_months = []\n",
    "budget_data_figures = []"
   ]
  },
  {
   "cell_type": "code",
   "execution_count": 7,
   "id": "6453b156-dddd-4045-83fc-7fc9057fe69f",
   "metadata": {},
   "outputs": [],
   "source": [
    "# Initialize line_num variable\n",
    "line_num = 0"
   ]
  },
  {
   "cell_type": "code",
   "execution_count": 8,
   "id": "3295cde8-5373-4c0f-931e-7e44459a6d65",
   "metadata": {},
   "outputs": [
    {
     "name": "stdout",
     "output_type": "stream",
     "text": [
      "<class '_io.TextIOWrapper'>\n",
      "<class '_csv.reader'>\n",
      "['Date', 'Profit/Losses']) <--- HEADER\n",
      "['Jan-2010', '867884']\n",
      "['Feb-2010', '984655']\n",
      "['Mar-2010', '322013']\n",
      "['Apr-2010', '-69417']\n",
      "['May-2010', '310503']\n",
      "['Jun-2010', '522857']\n",
      "['Jul-2010', '1033096']\n",
      "['Aug-2010', '604885']\n",
      "['Sep-2010', '-216386']\n",
      "['Oct-2010', '477532']\n",
      "['Nov-2010', '893810']\n",
      "['Dec-2010', '-80353']\n",
      "['Jan-2011', '779806']\n",
      "['Feb-2011', '-335203']\n",
      "['Mar-2011', '697845']\n",
      "['Apr-2011', '793163']\n",
      "['May-2011', '485070']\n",
      "['Jun-2011', '584122']\n",
      "['Jul-2011', '62729']\n",
      "['Aug-2011', '668179']\n",
      "['Sep-2011', '899906']\n",
      "['Oct-2011', '834719']\n",
      "['Nov-2011', '132003']\n",
      "['Dec-2011', '309978']\n",
      "['Jan-2012', '-755566']\n",
      "['Feb-2012', '1170593']\n",
      "['Mar-2012', '252788']\n",
      "['Apr-2012', '1151518']\n",
      "['May-2012', '817256']\n",
      "['Jun-2012', '570757']\n",
      "['Jul-2012', '506702']\n",
      "['Aug-2012', '-1022534']\n",
      "['Sep-2012', '475062']\n",
      "['Oct-2012', '779976']\n",
      "['Nov-2012', '144175']\n",
      "['Dec-2012', '542494']\n",
      "['Jan-2013', '359333']\n",
      "['Feb-2013', '321469']\n",
      "['Mar-2013', '67780']\n",
      "['Apr-2013', '471435']\n",
      "['May-2013', '565603']\n",
      "['Jun-2013', '872480']\n",
      "['Jul-2013', '789480']\n",
      "['Aug-2013', '999942']\n",
      "['Sep-2013', '-1196225']\n",
      "['Oct-2013', '268997']\n",
      "['Nov-2013', '-687986']\n",
      "['Dec-2013', '1150461']\n",
      "['Jan-2014', '682458']\n",
      "['Feb-2014', '617856']\n",
      "['Mar-2014', '824098']\n",
      "['Apr-2014', '581943']\n",
      "['May-2014', '132864']\n",
      "['Jun-2014', '448062']\n",
      "['Jul-2014', '689161']\n",
      "['Aug-2014', '800701']\n",
      "['Sep-2014', '1166643']\n",
      "['Oct-2014', '947333']\n",
      "['Nov-2014', '578668']\n",
      "['Dec-2014', '988505']\n",
      "['Jan-2015', '1139715']\n",
      "['Feb-2015', '1029471']\n",
      "['Mar-2015', '687533']\n",
      "['Apr-2015', '-524626']\n",
      "['May-2015', '158620']\n",
      "['Jun-2015', '87795']\n",
      "['Jul-2015', '423389']\n",
      "['Aug-2015', '840723']\n",
      "['Sep-2015', '568529']\n",
      "['Oct-2015', '332067']\n",
      "['Nov-2015', '989499']\n",
      "['Dec-2015', '778237']\n",
      "['Jan-2016', '650000']\n",
      "['Feb-2016', '-1100387']\n",
      "['Mar-2016', '-174946']\n",
      "['Apr-2016', '757143']\n",
      "['May-2016', '445709']\n",
      "['Jun-2016', '712961']\n",
      "['Jul-2016', '-1163797']\n",
      "['Aug-2016', '569899']\n",
      "['Sep-2016', '768450']\n",
      "['Oct-2016', '102685']\n",
      "['Nov-2016', '795914']\n",
      "['Dec-2016', '60988']\n",
      "['Jan-2017', '138230']\n",
      "['Feb-2017', '671099']\n"
     ]
    }
   ],
   "source": [
    "# Open the input path as a file object.\n",
    "with open(csvpath, 'r') as csvfile:\n",
    "    \n",
    "    # Print the datatype of the file object.\n",
    "    print(type(csvfile))\n",
    "\n",
    "    # Pass in the CSV file to the csv.reader() function with ',' as the delimeter and return the csvreader object.  \n",
    "    csvreader = csv.reader(csvfile, delimiter=',')\n",
    "    \n",
    "    # Print the datatype of the csvreader.\n",
    "    print(type(csvreader))\n",
    "    \n",
    "    # Go to the next row from the start of the file and iterate line_num by 1.\n",
    "    header = next(csvreader)\n",
    "    line_num += 1\n",
    "    \n",
    "    # Print the header.\n",
    "    print(f\"{header}) <--- HEADER\")\n",
    "    \n",
    "    # Read each row of data after the header.\n",
    "    for row in csvreader:\n",
    "        \n",
    "        # Print the data in each row.\n",
    "        print(row)\n",
    "        \n",
    "        # For each row, set month and profit_losses variables equal to the data in the first and second columns.\n",
    "        month = (row[0])\n",
    "        profit_losses = int(row[1])\n",
    "                    \n",
    "        # Add the month and profit/losses data to the two lists initialized above.\n",
    "        budget_data_months.append(month)\n",
    "        budget_data_figures.append(profit_losses)"
   ]
  },
  {
   "cell_type": "code",
   "execution_count": 9,
   "id": "01dbfa96-d08e-41b7-99fa-7c7f95d79a8b",
   "metadata": {},
   "outputs": [
    {
     "name": "stdout",
     "output_type": "stream",
     "text": [
      "[867884, 984655, 322013, -69417, 310503, 522857, 1033096, 604885, -216386, 477532, 893810, -80353, 779806, -335203, 697845, 793163, 485070, 584122, 62729, 668179, 899906, 834719, 132003, 309978, -755566, 1170593, 252788, 1151518, 817256, 570757, 506702, -1022534, 475062, 779976, 144175, 542494, 359333, 321469, 67780, 471435, 565603, 872480, 789480, 999942, -1196225, 268997, -687986, 1150461, 682458, 617856, 824098, 581943, 132864, 448062, 689161, 800701, 1166643, 947333, 578668, 988505, 1139715, 1029471, 687533, -524626, 158620, 87795, 423389, 840723, 568529, 332067, 989499, 778237, 650000, -1100387, -174946, 757143, 445709, 712961, -1163797, 569899, 768450, 102685, 795914, 60988, 138230, 671099]\n"
     ]
    }
   ],
   "source": [
    "# Print the list containing the Profit/Losses figures.\n",
    "print(budget_data_figures)"
   ]
  },
  {
   "cell_type": "code",
   "execution_count": 10,
   "id": "bea86267-ab28-469f-a2ba-9d837c454163",
   "metadata": {},
   "outputs": [
    {
     "name": "stdout",
     "output_type": "stream",
     "text": [
      "['Jan-2010', 'Feb-2010', 'Mar-2010', 'Apr-2010', 'May-2010', 'Jun-2010', 'Jul-2010', 'Aug-2010', 'Sep-2010', 'Oct-2010', 'Nov-2010', 'Dec-2010', 'Jan-2011', 'Feb-2011', 'Mar-2011', 'Apr-2011', 'May-2011', 'Jun-2011', 'Jul-2011', 'Aug-2011', 'Sep-2011', 'Oct-2011', 'Nov-2011', 'Dec-2011', 'Jan-2012', 'Feb-2012', 'Mar-2012', 'Apr-2012', 'May-2012', 'Jun-2012', 'Jul-2012', 'Aug-2012', 'Sep-2012', 'Oct-2012', 'Nov-2012', 'Dec-2012', 'Jan-2013', 'Feb-2013', 'Mar-2013', 'Apr-2013', 'May-2013', 'Jun-2013', 'Jul-2013', 'Aug-2013', 'Sep-2013', 'Oct-2013', 'Nov-2013', 'Dec-2013', 'Jan-2014', 'Feb-2014', 'Mar-2014', 'Apr-2014', 'May-2014', 'Jun-2014', 'Jul-2014', 'Aug-2014', 'Sep-2014', 'Oct-2014', 'Nov-2014', 'Dec-2014', 'Jan-2015', 'Feb-2015', 'Mar-2015', 'Apr-2015', 'May-2015', 'Jun-2015', 'Jul-2015', 'Aug-2015', 'Sep-2015', 'Oct-2015', 'Nov-2015', 'Dec-2015', 'Jan-2016', 'Feb-2016', 'Mar-2016', 'Apr-2016', 'May-2016', 'Jun-2016', 'Jul-2016', 'Aug-2016', 'Sep-2016', 'Oct-2016', 'Nov-2016', 'Dec-2016', 'Jan-2017', 'Feb-2017']\n"
     ]
    }
   ],
   "source": [
    "# Print the list containing Months.\n",
    "print(budget_data_months)"
   ]
  },
  {
   "cell_type": "code",
   "execution_count": 11,
   "id": "5545e41f-39f9-4740-a06d-85978e74b893",
   "metadata": {},
   "outputs": [],
   "source": [
    "# Initialize variables for total and count to calculate metrics for budget data.\n",
    "total = 0\n",
    "count = 0\n",
    "\n",
    "# Iterate over each value in diff_profit_loss list.\n",
    "for value in budget_data_figures:\n",
    "        \n",
    "    # Culmulatively sum up the total and count of each value.\n",
    "    total += value\n",
    "    count += 1"
   ]
  },
  {
   "cell_type": "code",
   "execution_count": 12,
   "id": "e9bfe6b3-fff9-4149-9caf-ddbe178d6e56",
   "metadata": {},
   "outputs": [
    {
     "name": "stdout",
     "output_type": "stream",
     "text": [
      "38382578\n"
     ]
    }
   ],
   "source": [
    "# Print total profits and losses for the period.\n",
    "print(total)"
   ]
  },
  {
   "cell_type": "code",
   "execution_count": 13,
   "id": "70c4bb75-97c8-4ded-bfa7-b5e24c5e5889",
   "metadata": {},
   "outputs": [
    {
     "name": "stdout",
     "output_type": "stream",
     "text": [
      "86\n"
     ]
    }
   ],
   "source": [
    "# Print a count of the data, which equals the number of months in the data set.\n",
    "print(count)"
   ]
  },
  {
   "cell_type": "code",
   "execution_count": 14,
   "id": "3b17ccdf-9dc5-426a-b437-27067d6be14c",
   "metadata": {},
   "outputs": [],
   "source": [
    "#Create a list to store difference in profits and losses.\n",
    "diff_profit_loss = []\n",
    "\n",
    "# Iterate over each value in budget_data_figures list.\n",
    "for value in range (1, len(budget_data_figures)):\n",
    "    \n",
    "    # Subtract each value in the budget_data_figures list from the one before it.\n",
    "    diff_profit_loss.append(budget_data_figures[value] - budget_data_figures[value-1])\n",
    " "
   ]
  },
  {
   "cell_type": "code",
   "execution_count": 15,
   "id": "2664368b-d947-4b6a-877e-a2b9490c7321",
   "metadata": {},
   "outputs": [
    {
     "name": "stdout",
     "output_type": "stream",
     "text": [
      "[116771, -662642, -391430, 379920, 212354, 510239, -428211, -821271, 693918, 416278, -974163, 860159, -1115009, 1033048, 95318, -308093, 99052, -521393, 605450, 231727, -65187, -702716, 177975, -1065544, 1926159, -917805, 898730, -334262, -246499, -64055, -1529236, 1497596, 304914, -635801, 398319, -183161, -37864, -253689, 403655, 94168, 306877, -83000, 210462, -2196167, 1465222, -956983, 1838447, -468003, -64602, 206242, -242155, -449079, 315198, 241099, 111540, 365942, -219310, -368665, 409837, 151210, -110244, -341938, -1212159, 683246, -70825, 335594, 417334, -272194, -236462, 657432, -211262, -128237, -1750387, 925441, 932089, -311434, 267252, -1876758, 1733696, 198551, -665765, 693229, -734926, 77242, 532869]\n"
     ]
    }
   ],
   "source": [
    "# Print differences in profits and losses.\n",
    "print(diff_profit_loss)"
   ]
  },
  {
   "cell_type": "code",
   "execution_count": 16,
   "id": "46075b65-ca8b-47bd-8d15-6675608548b6",
   "metadata": {},
   "outputs": [
    {
     "name": "stdout",
     "output_type": "stream",
     "text": [
      "85\n"
     ]
    }
   ],
   "source": [
    "# Print the length of the profits and losses list.\n",
    "print(len(diff_profit_loss))"
   ]
  },
  {
   "cell_type": "code",
   "execution_count": 17,
   "id": "45a9647e-bea6-4f77-9905-88d8dfc8af93",
   "metadata": {},
   "outputs": [],
   "source": [
    "# Initialize variables to calculate metrics for increases and decreases in profits.\n",
    "total_diff = 0\n",
    "count_diff = 0\n",
    "\n",
    "# Iterate over each value in diff_profit_loss list.\n",
    "for difference in diff_profit_loss:\n",
    "        \n",
    "    # Culmulatively sum up the total and count of each value.\n",
    "    total_diff += difference\n",
    "    count_diff += 1\n",
    "        \n",
    "    #Calculate the average of the differences in profits and losses.\n",
    "    average_diff = round(total_diff / count_diff, 2)"
   ]
  },
  {
   "cell_type": "code",
   "execution_count": 18,
   "id": "9e11d117-603a-4918-90d3-19629c361a84",
   "metadata": {},
   "outputs": [
    {
     "name": "stdout",
     "output_type": "stream",
     "text": [
      "[0, 116771, -662642, -391430, 379920, 212354, 510239, -428211, -821271, 693918, 416278, -974163, 860159, -1115009, 1033048, 95318, -308093, 99052, -521393, 605450, 231727, -65187, -702716, 177975, -1065544, 1926159, -917805, 898730, -334262, -246499, -64055, -1529236, 1497596, 304914, -635801, 398319, -183161, -37864, -253689, 403655, 94168, 306877, -83000, 210462, -2196167, 1465222, -956983, 1838447, -468003, -64602, 206242, -242155, -449079, 315198, 241099, 111540, 365942, -219310, -368665, 409837, 151210, -110244, -341938, -1212159, 683246, -70825, 335594, 417334, -272194, -236462, 657432, -211262, -128237, -1750387, 925441, 932089, -311434, 267252, -1876758, 1733696, 198551, -665765, 693229, -734926, 77242, 532869]\n"
     ]
    }
   ],
   "source": [
    "# Add a placeholder to the beginning of the differences in profits loss list.  This will allow the indexing of this list to match the months list.\n",
    "diff_profit_loss.insert(0, 0)\n",
    "\n",
    "# Reprint the list.\n",
    "print(diff_profit_loss)"
   ]
  },
  {
   "cell_type": "code",
   "execution_count": 19,
   "id": "fc60f81d-a519-4dbd-b03a-e18e4cd981c6",
   "metadata": {},
   "outputs": [
    {
     "name": "stdout",
     "output_type": "stream",
     "text": [
      "-2315.12\n"
     ]
    }
   ],
   "source": [
    "# Print the average of the differences in profit and losses.\n",
    "print(average_diff)"
   ]
  },
  {
   "cell_type": "code",
   "execution_count": 20,
   "id": "e4e13484-7df9-4730-b548-dcc5a68a8db4",
   "metadata": {},
   "outputs": [
    {
     "name": "stdout",
     "output_type": "stream",
     "text": [
      "1926159\n",
      "Feb-2012\n"
     ]
    }
   ],
   "source": [
    "# Assign a variable for the maximum value in the differences list (the greatest increase in profit) and print the value.\n",
    "increase_profit = max(diff_profit_loss)\n",
    "print(increase_profit)\n",
    "\n",
    "# Determine the position of the greatest increase in profit in the differences list and assign a variable.\n",
    "greatest_profit_index = diff_profit_loss.index(increase_profit)\n",
    "\n",
    "# Determine which month corresponds to index position in the months list, assign a variable and print the month.\n",
    "greatest_profit_month = budget_data_months[greatest_profit_index]\n",
    "print(greatest_profit_month)"
   ]
  },
  {
   "cell_type": "code",
   "execution_count": 21,
   "id": "c22ea013-884f-4740-9913-f4edcb8f2deb",
   "metadata": {},
   "outputs": [
    {
     "name": "stdout",
     "output_type": "stream",
     "text": [
      "-2196167\n",
      "Sep-2013\n"
     ]
    }
   ],
   "source": [
    "# Assign a variable for the minimum value in the differences list (the greatest decrease in losses) and print the value.\n",
    "decrease_loss = min(diff_profit_loss)\n",
    "print(decrease_loss)\n",
    "\n",
    "# Determine the position of the greatest increase in loss in the differences list and assign a variable.\n",
    "greatest_loss_index = diff_profit_loss.index(decrease_loss)\n",
    "\n",
    "# Determine which month corresponds to index position in the months list and assign a variable.\n",
    "greatest_loss_month = budget_data_months[greatest_loss_index]\n",
    "\n",
    "print(greatest_loss_month)"
   ]
  },
  {
   "cell_type": "code",
   "execution_count": 23,
   "id": "1c25f925-ef64-4a21-bd86-9520caa9e42d",
   "metadata": {},
   "outputs": [
    {
     "name": "stdout",
     "output_type": "stream",
     "text": [
      "The number of months is 86.\n",
      "The net total amount of Profit/Losses over the entire period is $38382578.\n",
      "The average of the changes in Profit/Losses over the entire period is $-2315.12.\n",
      "The greatest increase in profits over the entire period is $1926159 in Feb-2012.\n",
      "The greatest decrease in losses over the entire perios is $-2196167 in Sep-2013.\n"
     ]
    }
   ],
   "source": [
    "# Print metrics.\n",
    "print(f\"The number of months is {count}.\")\n",
    "print(f\"The net total amount of Profit/Losses over the entire period is ${total}.\")\n",
    "print(f\"The average of the changes in Profit/Losses over the entire period is ${average_diff}.\")\n",
    "print(f\"The greatest increase in profits over the entire period is ${increase_profit} in {greatest_profit_month}.\")\n",
    "print(f\"The greatest decrease in losses over the entire period is ${decrease_loss} in {greatest_loss_month}.\")"
   ]
  },
  {
   "cell_type": "code",
   "execution_count": 25,
   "id": "abc006c8-d8b4-4226-9399-0a87a4a6dfd0",
   "metadata": {},
   "outputs": [],
   "source": [
    "# Set the output file path\n",
    "output_path = Path(\"output.txt\")\n",
    "\n",
    "# Open the output_path as a file object in \"write\" mode ('w')\n",
    "# Write a header line and write the contents of 'text' to the file\n",
    "with open(output_path, 'w') as file:\n",
    "    file.write(f\"Financial Analysis\\n\")\n",
    "    file.write(f\"----------------------\\n\")\n",
    "    file.write(f\"The number of months is {count}.\\n\")\n",
    "    file.write(f\"The net total amount of Profit/Losses over the entire period is ${total}.\\n\")\n",
    "    file.write(f\"The average of the changes in Profit/Losses over the entire period is ${average_diff}.\\n\")\n",
    "    file.write(f\"The greatest increase in profits over the entire period is ${increase_profit} in {greatest_profit_month}.\\n\")\n",
    "    file.write(f\"The greatest decrease in losses over the entire period is ${decrease_loss} in {greatest_loss_month}.\")"
   ]
  },
  {
   "cell_type": "code",
   "execution_count": null,
   "id": "f8cab339-d0d7-4d4d-9618-8c48e0ea301d",
   "metadata": {},
   "outputs": [],
   "source": []
  }
 ],
 "metadata": {
  "kernelspec": {
   "display_name": "Python 3",
   "language": "python",
   "name": "python3"
  },
  "language_info": {
   "codemirror_mode": {
    "name": "ipython",
    "version": 3
   },
   "file_extension": ".py",
   "mimetype": "text/x-python",
   "name": "python",
   "nbconvert_exporter": "python",
   "pygments_lexer": "ipython3",
   "version": "3.8.8"
  }
 },
 "nbformat": 4,
 "nbformat_minor": 5
}
